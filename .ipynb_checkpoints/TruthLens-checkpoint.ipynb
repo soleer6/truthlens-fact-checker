{
 "cells": [
  {
   "cell_type": "code",
   "execution_count": 1,
   "id": "060426e3",
   "metadata": {},
   "outputs": [
    {
     "name": "stdout",
     "output_type": "stream",
     "text": [
      "Requirement already satisfied: kaggle in /home/alejandro/anaconda3/lib/python3.11/site-packages (1.7.4.5)\n",
      "Requirement already satisfied: bleach in /home/alejandro/anaconda3/lib/python3.11/site-packages (from kaggle) (4.1.0)\n",
      "Requirement already satisfied: certifi>=14.05.14 in /home/alejandro/anaconda3/lib/python3.11/site-packages (from kaggle) (2023.7.22)\n",
      "Requirement already satisfied: charset-normalizer in /home/alejandro/anaconda3/lib/python3.11/site-packages (from kaggle) (2.0.4)\n",
      "Requirement already satisfied: idna in /home/alejandro/anaconda3/lib/python3.11/site-packages (from kaggle) (3.4)\n",
      "Requirement already satisfied: protobuf in /home/alejandro/anaconda3/lib/python3.11/site-packages (from kaggle) (6.31.1)\n",
      "Requirement already satisfied: python-dateutil>=2.5.3 in /home/alejandro/anaconda3/lib/python3.11/site-packages (from kaggle) (2.8.2)\n",
      "Requirement already satisfied: python-slugify in /home/alejandro/anaconda3/lib/python3.11/site-packages (from kaggle) (5.0.2)\n",
      "Requirement already satisfied: requests in /home/alejandro/anaconda3/lib/python3.11/site-packages (from kaggle) (2.31.0)\n",
      "Requirement already satisfied: setuptools>=21.0.0 in /home/alejandro/anaconda3/lib/python3.11/site-packages (from kaggle) (68.0.0)\n",
      "Requirement already satisfied: six>=1.10 in /home/alejandro/anaconda3/lib/python3.11/site-packages (from kaggle) (1.16.0)\n",
      "Requirement already satisfied: text-unidecode in /home/alejandro/anaconda3/lib/python3.11/site-packages (from kaggle) (1.3)\n",
      "Requirement already satisfied: tqdm in /home/alejandro/anaconda3/lib/python3.11/site-packages (from kaggle) (4.65.0)\n",
      "Requirement already satisfied: urllib3>=1.15.1 in /home/alejandro/anaconda3/lib/python3.11/site-packages (from kaggle) (1.26.16)\n",
      "Requirement already satisfied: webencodings in /home/alejandro/anaconda3/lib/python3.11/site-packages (from kaggle) (0.5.1)\n",
      "Requirement already satisfied: packaging in /home/alejandro/anaconda3/lib/python3.11/site-packages (from bleach->kaggle) (23.0)\n",
      "Kaggle API 1.7.4.5\n"
     ]
    }
   ],
   "source": [
    "!pip install kaggle\n",
    "!kaggle --version"
   ]
  },
  {
   "cell_type": "code",
   "execution_count": 3,
   "id": "ee260302",
   "metadata": {},
   "outputs": [
    {
     "name": "stdout",
     "output_type": "stream",
     "text": [
      "Dataset URL: https://www.kaggle.com/datasets/csmalarkodi/liar-fake-news-dataset\n",
      "License(s): unknown\n",
      "Downloading liar-fake-news-dataset.zip to /home/alejandro/Desktop/UNI/ERASMUS/BigData/TruthLens\n",
      "  0%|                                               | 0.00/0.98M [00:00<?, ?B/s]\n",
      "100%|███████████████████████████████████████| 0.98M/0.98M [00:00<00:00, 883MB/s]\n"
     ]
    }
   ],
   "source": [
    "!kaggle datasets download -d csmalarkodi/liar-fake-news-dataset"
   ]
  },
  {
   "cell_type": "code",
   "execution_count": 4,
   "id": "6bca224e",
   "metadata": {},
   "outputs": [
    {
     "name": "stdout",
     "output_type": "stream",
     "text": [
      "data\r\n",
      "liar-fake-news-dataset.zip\r\n",
      "README\r\n",
      "test.tsv\r\n",
      "train.tsv\r\n",
      "Untitled.ipynb\r\n",
      "valid.tsv\r\n"
     ]
    }
   ],
   "source": [
    "!unzip -q liar-fake-news-dataset.zip\n",
    "!ls -1\n",
    "# you should see: \n",
    "#   README.md\n",
    "#   test.tsv\n",
    "#   train.tsv\n",
    "#   valid.tsv\n"
   ]
  },
  {
   "cell_type": "code",
   "execution_count": 6,
   "id": "591bc1c5",
   "metadata": {},
   "outputs": [
    {
     "data": {
      "text/html": [
       "<div>\n",
       "<style scoped>\n",
       "    .dataframe tbody tr th:only-of-type {\n",
       "        vertical-align: middle;\n",
       "    }\n",
       "\n",
       "    .dataframe tbody tr th {\n",
       "        vertical-align: top;\n",
       "    }\n",
       "\n",
       "    .dataframe thead th {\n",
       "        text-align: right;\n",
       "    }\n",
       "</style>\n",
       "<table border=\"1\" class=\"dataframe\">\n",
       "  <thead>\n",
       "    <tr style=\"text-align: right;\">\n",
       "      <th></th>\n",
       "      <th>statement</th>\n",
       "      <th>label</th>\n",
       "    </tr>\n",
       "  </thead>\n",
       "  <tbody>\n",
       "    <tr>\n",
       "      <th>0</th>\n",
       "      <td>Says the Annies List political group supports ...</td>\n",
       "      <td>false</td>\n",
       "    </tr>\n",
       "    <tr>\n",
       "      <th>1</th>\n",
       "      <td>When did the decline of coal start? It started...</td>\n",
       "      <td>half-true</td>\n",
       "    </tr>\n",
       "    <tr>\n",
       "      <th>2</th>\n",
       "      <td>Hillary Clinton agrees with John McCain \"by vo...</td>\n",
       "      <td>mostly-true</td>\n",
       "    </tr>\n",
       "    <tr>\n",
       "      <th>3</th>\n",
       "      <td>Health care reform legislation is likely to ma...</td>\n",
       "      <td>false</td>\n",
       "    </tr>\n",
       "    <tr>\n",
       "      <th>4</th>\n",
       "      <td>The economic turnaround started at the end of ...</td>\n",
       "      <td>half-true</td>\n",
       "    </tr>\n",
       "  </tbody>\n",
       "</table>\n",
       "</div>"
      ],
      "text/plain": [
       "                                           statement        label\n",
       "0  Says the Annies List political group supports ...        false\n",
       "1  When did the decline of coal start? It started...    half-true\n",
       "2  Hillary Clinton agrees with John McCain \"by vo...  mostly-true\n",
       "3  Health care reform legislation is likely to ma...        false\n",
       "4  The economic turnaround started at the end of ...    half-true"
      ]
     },
     "execution_count": 6,
     "metadata": {},
     "output_type": "execute_result"
    }
   ],
   "source": [
    "import pandas as pd\n",
    "\n",
    "# adjust sep='\\t' for TSV\n",
    "train = pd.read_csv(\"train.tsv\", sep=\"\\t\", header=None)\n",
    "valid = pd.read_csv(\"valid.tsv\", sep=\"\\t\", header=None)\n",
    "test  = pd.read_csv(\"test.tsv\", sep=\"\\t\", header=None)\n",
    "\n",
    "# assign column names (per LIAR README)\n",
    "cols = ['id','label','statement','subject','speaker','job_title',\n",
    "        'state_info','party_affiliation','barely_true_counts',\n",
    "        'false_counts','half_true_counts','mostly_true_counts',\n",
    "        'pants_on_fire_counts','context']\n",
    "train.columns = cols\n",
    "valid.columns = cols\n",
    "test.columns  = cols\n",
    "\n",
    "# Peek\n",
    "train[['statement','label']].head()\n"
   ]
  },
  {
   "cell_type": "code",
   "execution_count": 7,
   "id": "90e703b5",
   "metadata": {},
   "outputs": [
    {
     "data": {
      "text/plain": [
       "(12791, 2)"
      ]
     },
     "execution_count": 7,
     "metadata": {},
     "output_type": "execute_result"
    }
   ],
   "source": [
    "# Quedarnos solo con la afirmación y la etiqueta\n",
    "df = pd.concat([train, valid, test], ignore_index=True)[['statement','label']]\n",
    "\n",
    "# Elimina filas donde statement sea NaN o vacío\n",
    "df = df[df['statement'].notna() & (df['statement'].str.strip() != \"\")]\n",
    "df.shape  # debe dar algo cercano a 12000 filas\n"
   ]
  },
  {
   "cell_type": "code",
   "execution_count": 12,
   "id": "d2edfad2",
   "metadata": {},
   "outputs": [
    {
     "data": {
      "text/html": [
       "<div>\n",
       "<style scoped>\n",
       "    .dataframe tbody tr th:only-of-type {\n",
       "        vertical-align: middle;\n",
       "    }\n",
       "\n",
       "    .dataframe tbody tr th {\n",
       "        vertical-align: top;\n",
       "    }\n",
       "\n",
       "    .dataframe thead th {\n",
       "        text-align: right;\n",
       "    }\n",
       "</style>\n",
       "<table border=\"1\" class=\"dataframe\">\n",
       "  <thead>\n",
       "    <tr style=\"text-align: right;\">\n",
       "      <th></th>\n",
       "      <th>statement</th>\n",
       "      <th>label</th>\n",
       "      <th>mapped</th>\n",
       "    </tr>\n",
       "  </thead>\n",
       "  <tbody>\n",
       "    <tr>\n",
       "      <th>0</th>\n",
       "      <td>Says the Annies List political group supports ...</td>\n",
       "      <td>false</td>\n",
       "      <td>fake</td>\n",
       "    </tr>\n",
       "    <tr>\n",
       "      <th>1</th>\n",
       "      <td>When did the decline of coal start? It started...</td>\n",
       "      <td>half-true</td>\n",
       "      <td>real</td>\n",
       "    </tr>\n",
       "    <tr>\n",
       "      <th>2</th>\n",
       "      <td>Hillary Clinton agrees with John McCain \"by vo...</td>\n",
       "      <td>mostly-true</td>\n",
       "      <td>real</td>\n",
       "    </tr>\n",
       "    <tr>\n",
       "      <th>3</th>\n",
       "      <td>Health care reform legislation is likely to ma...</td>\n",
       "      <td>false</td>\n",
       "      <td>fake</td>\n",
       "    </tr>\n",
       "    <tr>\n",
       "      <th>4</th>\n",
       "      <td>The economic turnaround started at the end of ...</td>\n",
       "      <td>half-true</td>\n",
       "      <td>real</td>\n",
       "    </tr>\n",
       "  </tbody>\n",
       "</table>\n",
       "</div>"
      ],
      "text/plain": [
       "                                           statement        label mapped\n",
       "0  Says the Annies List political group supports ...        false   fake\n",
       "1  When did the decline of coal start? It started...    half-true   real\n",
       "2  Hillary Clinton agrees with John McCain \"by vo...  mostly-true   real\n",
       "3  Health care reform legislation is likely to ma...        false   fake\n",
       "4  The economic turnaround started at the end of ...    half-true   real"
      ]
     },
     "execution_count": 12,
     "metadata": {},
     "output_type": "execute_result"
    }
   ],
   "source": [
    "def map_label(x):\n",
    "    return 'real' if x in ['true','mostly-true','half-true'] else 'fake'\n",
    "\n",
    "df['mapped'] = df['label'].apply(map_label)\n",
    "df[['statement','label','mapped']].head(5)\n"
   ]
  },
  {
   "cell_type": "code",
   "execution_count": 14,
   "id": "b8a166f8",
   "metadata": {},
   "outputs": [
    {
     "data": {
      "text/html": [
       "<div>\n",
       "<style scoped>\n",
       "    .dataframe tbody tr th:only-of-type {\n",
       "        vertical-align: middle;\n",
       "    }\n",
       "\n",
       "    .dataframe tbody tr th {\n",
       "        vertical-align: top;\n",
       "    }\n",
       "\n",
       "    .dataframe thead th {\n",
       "        text-align: right;\n",
       "    }\n",
       "</style>\n",
       "<table border=\"1\" class=\"dataframe\">\n",
       "  <thead>\n",
       "    <tr style=\"text-align: right;\">\n",
       "      <th></th>\n",
       "      <th>statement</th>\n",
       "      <th>label</th>\n",
       "      <th>mapped</th>\n",
       "    </tr>\n",
       "  </thead>\n",
       "  <tbody>\n",
       "    <tr>\n",
       "      <th>0</th>\n",
       "      <td>In the event of a U.S. strike on Syria, the Ru...</td>\n",
       "      <td>barely-true</td>\n",
       "      <td>fake</td>\n",
       "    </tr>\n",
       "    <tr>\n",
       "      <th>1</th>\n",
       "      <td>To give the proposed economic stimulus plan so...</td>\n",
       "      <td>true</td>\n",
       "      <td>real</td>\n",
       "    </tr>\n",
       "    <tr>\n",
       "      <th>2</th>\n",
       "      <td>Its warmer on Mars than it is in parts of the ...</td>\n",
       "      <td>barely-true</td>\n",
       "      <td>fake</td>\n",
       "    </tr>\n",
       "    <tr>\n",
       "      <th>3</th>\n",
       "      <td>The health insurance plan that (members of Con...</td>\n",
       "      <td>true</td>\n",
       "      <td>real</td>\n",
       "    </tr>\n",
       "    <tr>\n",
       "      <th>4</th>\n",
       "      <td>He's promising four more years of an administr...</td>\n",
       "      <td>false</td>\n",
       "      <td>fake</td>\n",
       "    </tr>\n",
       "  </tbody>\n",
       "</table>\n",
       "</div>"
      ],
      "text/plain": [
       "                                           statement        label mapped\n",
       "0  In the event of a U.S. strike on Syria, the Ru...  barely-true   fake\n",
       "1  To give the proposed economic stimulus plan so...         true   real\n",
       "2  Its warmer on Mars than it is in parts of the ...  barely-true   fake\n",
       "3  The health insurance plan that (members of Con...         true   real\n",
       "4  He's promising four more years of an administr...        false   fake"
      ]
     },
     "execution_count": 14,
     "metadata": {},
     "output_type": "execute_result"
    }
   ],
   "source": [
    "df_sample = df.sample(200, random_state=42).reset_index(drop=True)\n",
    "df_sample.to_csv(\"sample_liar.csv\", index=False)\n",
    "df_sample.head(5)\n"
   ]
  },
  {
   "cell_type": "code",
   "execution_count": 41,
   "id": "87a48c2c",
   "metadata": {},
   "outputs": [
    {
     "name": "stderr",
     "output_type": "stream",
     "text": [
      "/home/alejandro/anaconda3/lib/python3.11/site-packages/huggingface_hub/file_download.py:943: FutureWarning: `resume_download` is deprecated and will be removed in version 1.0.0. Downloads always resume when possible. If you want to force a new download, use `force_download=True`.\n",
      "  warnings.warn(\n"
     ]
    },
    {
     "name": "stdout",
     "output_type": "stream",
     "text": [
      "Accuracy: 59.00%\n",
      "Etiquetas reales (mapped): ['fake' 'real']\n",
      "Etiquetas predictas   : ['real' 'fake']\n"
     ]
    }
   ],
   "source": [
    "from sklearn.metrics import accuracy_score\n",
    "# Prepara todos los textos de la muestra\n",
    "texts = df_sample[\"statement\"].tolist()\n",
    "classifier = pipeline(\n",
    "    \"zero-shot-classification\",\n",
    "    model=\"facebook/bart-large-mnli\"\n",
    ")\n",
    "\n",
    "# Ejecuta el pipeline en un solo batch\n",
    "results = classifier(\n",
    "    sequences=texts,\n",
    "    candidate_labels=[\"Real\",\"Fake\"],\n",
    "    multi_label=False,\n",
    "    batch_size=32            # prueba distintos tamaños: 8, 16, 32…\n",
    ")\n",
    "\n",
    "# Extrae etiquetas y scores\n",
    "labels = [r[\"labels\"][0].lower() for r in results]\n",
    "scores = [r[\"scores\"][0]          for r in results]\n",
    "\n",
    "df_sample[\"predicted\"] = labels\n",
    "df_sample[\"score\"]     = scores\n",
    "\n",
    "df_sample.head(10)[[\"statement\",\"mapped\",\"predicted\",\"score\"]]\n",
    "\n",
    "\n",
    "y_true = df_sample[\"mapped\"]\n",
    "y_pred = df_sample[\"predicted\"]\n",
    "\n",
    "acc = accuracy_score(y_true, y_pred)\n",
    "print(f\"Accuracy: {acc:.2%}\")\n",
    "print(\"Etiquetas reales (mapped):\", df_sample[\"mapped\"].unique())\n",
    "print(\"Etiquetas predictas   :\", df_sample[\"predicted\"].unique())"
   ]
  },
  {
   "cell_type": "code",
   "execution_count": 47,
   "id": "8a7080ed",
   "metadata": {},
   "outputs": [
    {
     "name": "stdout",
     "output_type": "stream",
     "text": [
      "[[112   2]\n",
      " [ 80   6]]\n"
     ]
    },
    {
     "data": {
      "text/html": [
       "<div>\n",
       "<style scoped>\n",
       "    .dataframe tbody tr th:only-of-type {\n",
       "        vertical-align: middle;\n",
       "    }\n",
       "\n",
       "    .dataframe tbody tr th {\n",
       "        vertical-align: top;\n",
       "    }\n",
       "\n",
       "    .dataframe thead th {\n",
       "        text-align: right;\n",
       "    }\n",
       "</style>\n",
       "<table border=\"1\" class=\"dataframe\">\n",
       "  <thead>\n",
       "    <tr style=\"text-align: right;\">\n",
       "      <th></th>\n",
       "      <th>statement</th>\n",
       "      <th>mapped</th>\n",
       "      <th>predicted</th>\n",
       "      <th>score</th>\n",
       "    </tr>\n",
       "  </thead>\n",
       "  <tbody>\n",
       "    <tr>\n",
       "      <th>0</th>\n",
       "      <td>In the event of a U.S. strike on Syria, the Ru...</td>\n",
       "      <td>fake</td>\n",
       "      <td>real</td>\n",
       "      <td>0.982898</td>\n",
       "    </tr>\n",
       "    <tr>\n",
       "      <th>2</th>\n",
       "      <td>Its warmer on Mars than it is in parts of the ...</td>\n",
       "      <td>fake</td>\n",
       "      <td>real</td>\n",
       "      <td>0.515759</td>\n",
       "    </tr>\n",
       "    <tr>\n",
       "      <th>4</th>\n",
       "      <td>He's promising four more years of an administr...</td>\n",
       "      <td>fake</td>\n",
       "      <td>real</td>\n",
       "      <td>0.783482</td>\n",
       "    </tr>\n",
       "    <tr>\n",
       "      <th>6</th>\n",
       "      <td>Theres no plan from Senate Democrats or the Wh...</td>\n",
       "      <td>fake</td>\n",
       "      <td>real</td>\n",
       "      <td>0.673440</td>\n",
       "    </tr>\n",
       "    <tr>\n",
       "      <th>8</th>\n",
       "      <td>About 47 percent of able-bodied people in the ...</td>\n",
       "      <td>fake</td>\n",
       "      <td>real</td>\n",
       "      <td>0.925287</td>\n",
       "    </tr>\n",
       "    <tr>\n",
       "      <th>12</th>\n",
       "      <td>Says Lamar Smith sponsored the bill that funde...</td>\n",
       "      <td>fake</td>\n",
       "      <td>real</td>\n",
       "      <td>0.864764</td>\n",
       "    </tr>\n",
       "    <tr>\n",
       "      <th>13</th>\n",
       "      <td>Hispanic unemployment has been ticking down fr...</td>\n",
       "      <td>fake</td>\n",
       "      <td>real</td>\n",
       "      <td>0.956958</td>\n",
       "    </tr>\n",
       "    <tr>\n",
       "      <th>14</th>\n",
       "      <td>Romney left Massachusetts \"with a $245-million...</td>\n",
       "      <td>fake</td>\n",
       "      <td>real</td>\n",
       "      <td>0.878130</td>\n",
       "    </tr>\n",
       "    <tr>\n",
       "      <th>16</th>\n",
       "      <td>Ive created over 40,000 jobs.</td>\n",
       "      <td>fake</td>\n",
       "      <td>real</td>\n",
       "      <td>0.923287</td>\n",
       "    </tr>\n",
       "    <tr>\n",
       "      <th>19</th>\n",
       "      <td>Wisconsin election officials to accept Mickey ...</td>\n",
       "      <td>fake</td>\n",
       "      <td>real</td>\n",
       "      <td>0.618875</td>\n",
       "    </tr>\n",
       "  </tbody>\n",
       "</table>\n",
       "</div>"
      ],
      "text/plain": [
       "                                            statement mapped predicted  \\\n",
       "0   In the event of a U.S. strike on Syria, the Ru...   fake      real   \n",
       "2   Its warmer on Mars than it is in parts of the ...   fake      real   \n",
       "4   He's promising four more years of an administr...   fake      real   \n",
       "6   Theres no plan from Senate Democrats or the Wh...   fake      real   \n",
       "8   About 47 percent of able-bodied people in the ...   fake      real   \n",
       "12  Says Lamar Smith sponsored the bill that funde...   fake      real   \n",
       "13  Hispanic unemployment has been ticking down fr...   fake      real   \n",
       "14  Romney left Massachusetts \"with a $245-million...   fake      real   \n",
       "16                      Ive created over 40,000 jobs.   fake      real   \n",
       "19  Wisconsin election officials to accept Mickey ...   fake      real   \n",
       "\n",
       "       score  \n",
       "0   0.982898  \n",
       "2   0.515759  \n",
       "4   0.783482  \n",
       "6   0.673440  \n",
       "8   0.925287  \n",
       "12  0.864764  \n",
       "13  0.956958  \n",
       "14  0.878130  \n",
       "16  0.923287  \n",
       "19  0.618875  "
      ]
     },
     "execution_count": 47,
     "metadata": {},
     "output_type": "execute_result"
    }
   ],
   "source": [
    "from sklearn.metrics import confusion_matrix\n",
    "#Matriz muestra que el llm decalara falsas  afirmaciones verdaderas|              \n",
    "#               | Predicho “real” | Predicho “fake” |\n",
    "#| ------------ | --------------- | --------------- |\n",
    "#| **Real (V)** | 112             | 2               |\n",
    "#| **Fake (F)** | 80              | 6               |\n",
    "\n",
    "cm = confusion_matrix(df_sample[\"mapped\"], df_sample[\"predicted\"], labels=[\"real\",\"fake\"])\n",
    "print(cm)\n",
    "df_sample[df_sample[\"mapped\"] != df_sample[\"predicted\"]][\n",
    "  [\"statement\",\"mapped\",\"predicted\",\"score\"]\n",
    "].head(10)"
   ]
  },
  {
   "cell_type": "code",
   "execution_count": 49,
   "id": "68b6ed35",
   "metadata": {},
   "outputs": [
    {
     "name": "stdout",
     "output_type": "stream",
     "text": [
      "Precision: 0.5833333333333334\n",
      "Recall   : 0.9824561403508771\n",
      "F1-score : 0.7320261437908496\n"
     ]
    }
   ],
   "source": [
    "from sklearn.metrics import precision_score, recall_score, f1_score\n",
    "\n",
    "y_true = df_sample[\"mapped\"]\n",
    "y_pred = df_sample[\"predicted\"]\n",
    "\n",
    "print(\"Precision:\", precision_score(y_true, y_pred, pos_label=\"real\"))\n",
    "print(\"Recall   :\", recall_score(y_true, y_pred, pos_label=\"real\"))\n",
    "print(\"F1-score :\", f1_score(y_true, y_pred, pos_label=\"real\"))"
   ]
  },
  {
   "cell_type": "code",
   "execution_count": 51,
   "id": "12b3c1d9",
   "metadata": {},
   "outputs": [
    {
     "name": "stdout",
     "output_type": "stream",
     "text": [
      "              precision    recall  f1-score   support\n",
      "\n",
      "        real       0.75      0.07      0.13        86\n",
      "        fake       0.58      0.98      0.73       114\n",
      "\n",
      "    accuracy                           0.59       200\n",
      "   macro avg       0.67      0.53      0.43       200\n",
      "weighted avg       0.66      0.59      0.47       200\n",
      "\n"
     ]
    }
   ],
   "source": [
    "from sklearn.metrics import classification_report\n",
    "print(classification_report(y_true, y_pred, target_names=[\"real\",\"fake\"]))"
   ]
  },
  {
   "cell_type": "code",
   "execution_count": 53,
   "id": "6d48a303",
   "metadata": {},
   "outputs": [
    {
     "name": "stdout",
     "output_type": "stream",
     "text": [
      "* Running on local URL:  http://127.0.0.1:7861\n",
      "* To create a public link, set `share=True` in `launch()`.\n"
     ]
    },
    {
     "data": {
      "text/html": [
       "<div><iframe src=\"http://127.0.0.1:7861/\" width=\"100%\" height=\"500\" allow=\"autoplay; camera; microphone; clipboard-read; clipboard-write;\" frameborder=\"0\" allowfullscreen></iframe></div>"
      ],
      "text/plain": [
       "<IPython.core.display.HTML object>"
      ]
     },
     "metadata": {},
     "output_type": "display_data"
    },
    {
     "data": {
      "text/plain": []
     },
     "execution_count": 53,
     "metadata": {},
     "output_type": "execute_result"
    },
    {
     "name": "stderr",
     "output_type": "stream",
     "text": [
      "Traceback (most recent call last):\n",
      "  File \"/home/alejandro/anaconda3/lib/python3.11/site-packages/gradio/queueing.py\", line 625, in process_events\n",
      "    response = await route_utils.call_process_api(\n",
      "               ^^^^^^^^^^^^^^^^^^^^^^^^^^^^^^^^^^^\n",
      "  File \"/home/alejandro/anaconda3/lib/python3.11/site-packages/gradio/route_utils.py\", line 322, in call_process_api\n",
      "    output = await app.get_blocks().process_api(\n",
      "             ^^^^^^^^^^^^^^^^^^^^^^^^^^^^^^^^^^^\n",
      "  File \"/home/alejandro/anaconda3/lib/python3.11/site-packages/gradio/blocks.py\", line 2191, in process_api\n",
      "    data = await self.postprocess_data(block_fn, result[\"prediction\"], state)\n",
      "           ^^^^^^^^^^^^^^^^^^^^^^^^^^^^^^^^^^^^^^^^^^^^^^^^^^^^^^^^^^^^^^^^^^\n",
      "  File \"/home/alejandro/anaconda3/lib/python3.11/site-packages/gradio/blocks.py\", line 1918, in postprocess_data\n",
      "    self.validate_outputs(block_fn, predictions)  # type: ignore\n",
      "    ^^^^^^^^^^^^^^^^^^^^^^^^^^^^^^^^^^^^^^^^^^^^\n",
      "  File \"/home/alejandro/anaconda3/lib/python3.11/site-packages/gradio/blocks.py\", line 1873, in validate_outputs\n",
      "    raise ValueError(\n",
      "ValueError: A  function (fact_check) didn't return enough output values (needed: 2, returned: 1).\n",
      "    Output components:\n",
      "        [label, textbox]\n",
      "    Output values returned:\n",
      "        [{'label': 'real', 'confidence': 0.968}]\n"
     ]
    }
   ],
   "source": [
    "import gradio as gr\n",
    "\n",
    "def fact_check(text):\n",
    "    result = classifier(\n",
    "        sequences=text,\n",
    "        candidate_labels=[\"Real\",\"Fake\"],\n",
    "        multi_label=False\n",
    "    )\n",
    "    label     = result[\"labels\"][0].lower()\n",
    "    confidence= result[\"scores\"][0]\n",
    "    return label, confidence\n",
    "\n",
    "\n",
    "demo = gr.Interface(\n",
    "    fn=fact_check,\n",
    "    inputs=gr.Textbox(lines=2, placeholder=\"Escribe tu afirmación…\"),\n",
    "    outputs=[\n",
    "      gr.Label(num_top_classes=2, label=\"Prediction\"),\n",
    "      gr.Textbox(label=\"Confidence\")\n",
    "    ],\n",
    "    title=\"TruthLens Fact-Checker\",\n",
    "    description=\"Introduce una afirmación y recibe veracidad y nivel de confianza\"\n",
    ")\n",
    "\n",
    "demo.launch()"
   ]
  }
 ],
 "metadata": {
  "kernelspec": {
   "display_name": "Python 3 (ipykernel)",
   "language": "python",
   "name": "python3"
  },
  "language_info": {
   "codemirror_mode": {
    "name": "ipython",
    "version": 3
   },
   "file_extension": ".py",
   "mimetype": "text/x-python",
   "name": "python",
   "nbconvert_exporter": "python",
   "pygments_lexer": "ipython3",
   "version": "3.11.4"
  }
 },
 "nbformat": 4,
 "nbformat_minor": 5
}
